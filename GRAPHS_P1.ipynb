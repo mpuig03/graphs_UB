{
 "cells": [
  {
   "cell_type": "markdown",
   "metadata": {},
   "source": [
    "## Grafs 22/23 -  Sheet 1 - Due 30 September 2022\n",
    "\n",
    "# Jupyter notebook, Python & Graphs in Python\n",
    "\n",
    "The first assignment is divided into two sections. In the first section you will learn the basics of how to use Python in a notebook, and in the second you will do some basic graph theory exercises in the code. The official python documentation is available at <https://docs.python.org/>."
   ]
  },
  {
   "cell_type": "markdown",
   "metadata": {},
   "source": [
    "A Jupyter notebook is divided in cells. The text above is a \"Markdown cell\" (i.e. text cell), as well as this one. The three cells below are \"Code cells\".\n",
    "\n",
    "To execute the code in a code cell, click it and press Ctrl+Enter. The code will run from top to bottom, and the result of the last computation will be displayed below. If you defined variables or functions, you will be able to access them from other cells *after* executing the cell.\n",
    "\n",
    "Execute the three following cells in order and see what happens. What would happen if you started with the last one?"
   ]
  },
  {
   "cell_type": "code",
   "execution_count": 1,
   "metadata": {},
   "outputs": [
    {
     "data": {
      "text/plain": [
       "4"
      ]
     },
     "execution_count": 1,
     "metadata": {},
     "output_type": "execute_result"
    }
   ],
   "source": [
    "2+2"
   ]
  },
  {
   "cell_type": "code",
   "execution_count": 2,
   "metadata": {},
   "outputs": [],
   "source": [
    "a = 1+2"
   ]
  },
  {
   "cell_type": "code",
   "execution_count": 3,
   "metadata": {},
   "outputs": [
    {
     "name": "stdout",
     "output_type": "stream",
     "text": [
      "3\n",
      "a = 3\n"
     ]
    }
   ],
   "source": [
    "print(a)\n",
    "print('a =', a)"
   ]
  },
  {
   "cell_type": "markdown",
   "metadata": {},
   "source": [
    "### Notebook modes\n",
    "\n",
    "There are two notebook modes.\n",
    "* When the cells are highlighted in green, \"Edit Mode\", you can write and edit the text inside the cells.\n",
    "* When the cells are highlighted in blue, \"Command Mode\", you can create and delete cells and edit the notebook.\n",
    "\n",
    "To go from Edit to Command Mode, press Esc, to go from Command to Edit mode, click inside a cell. For the moment, you are supposed to be in Edit Mode."
   ]
  },
  {
   "cell_type": "markdown",
   "metadata": {},
   "source": [
    "### Input\n",
    "\n",
    "To read an input from the user, we may use the command `input()`, as in the example below.\n",
    "\n",
    "By default, input() creates a string. If we want an integer we need to convert it."
   ]
  },
  {
   "cell_type": "code",
   "execution_count": 5,
   "metadata": {},
   "outputs": [
    {
     "name": "stdout",
     "output_type": "stream",
     "text": [
      "Please input an integer\n",
      "5\n",
      "Please input an integer\n",
      "you can write here: 6\n",
      "n = 5\n",
      "m = 6\n",
      "n+m = 11\n"
     ]
    }
   ],
   "source": [
    "print('Please input an integer')\n",
    "n = int(input())\n",
    "print('Please input an integer')\n",
    "m = int(input('you can write here: '))\n",
    "print('n =', n)\n",
    "print('m =', m)\n",
    "print('n+m =', n+m)"
   ]
  },
  {
   "cell_type": "markdown",
   "metadata": {},
   "source": [
    "### If / else / elif\n",
    "\n",
    "The following code is an example of how to use conditional statements. Notice that there are no brackets {} to separate segments of code, and identation is what matters instead."
   ]
  },
  {
   "cell_type": "code",
   "execution_count": 6,
   "metadata": {},
   "outputs": [
    {
     "name": "stdout",
     "output_type": "stream",
     "text": [
      "Please input an integer here: 8\n",
      "n is multiple of 4\n"
     ]
    }
   ],
   "source": [
    "n = int(input('Please input an integer here: '))\n",
    "if (n % 2) == 1:\n",
    "    print('n is odd')\n",
    "elif (n % 4) == 0:\n",
    "    print('n is multiple of 4')\n",
    "else:\n",
    "    print('n is horrible')"
   ]
  },
  {
   "cell_type": "markdown",
   "metadata": {},
   "source": [
    "### For\n",
    "\n",
    "There are (mainly) two styles of for statements in Python:\n",
    "* Iterating over a range of numbers with the instruction `for i in range(a,b)`\n",
    "* Iterating over a \"iterable\" object, usually a list (we will see that after talking about lists)\n",
    "\n",
    "Notice that `range(a,b)` = (a,a+1,...,b-1), where a and b are integers. There are more options such as reversing the order or choosing a different step size that you can look up."
   ]
  },
  {
   "cell_type": "code",
   "execution_count": 7,
   "metadata": {},
   "outputs": [
    {
     "name": "stdout",
     "output_type": "stream",
     "text": [
      "1\n",
      "2\n",
      "3\n",
      "4\n"
     ]
    }
   ],
   "source": [
    "for i in range(1,5):\n",
    "    print(i)"
   ]
  },
  {
   "cell_type": "code",
   "execution_count": 8,
   "metadata": {},
   "outputs": [
    {
     "name": "stdout",
     "output_type": "stream",
     "text": [
      "1\n",
      "4\n",
      "7\n"
     ]
    }
   ],
   "source": [
    "for j in range(1,10):\n",
    "    if (j % 3) == 1:\n",
    "        print(j)"
   ]
  },
  {
   "cell_type": "markdown",
   "metadata": {},
   "source": [
    "### Exercise 1\n",
    "\n",
    "Input a positive integer n. For each k in {1,...,n}, if k is multiple of 3 print 'aaa', if k is multiple of 7 print 'bbb' (this means, if k is multiple of 21 you should print 'aaabbb'), and if k is not multiple of 3 or 7, print k."
   ]
  },
  {
   "cell_type": "code",
   "execution_count": 9,
   "metadata": {},
   "outputs": [
    {
     "name": "stdout",
     "output_type": "stream",
     "text": [
      "input a positive integer:22\n",
      "k\n",
      "k\n",
      "aaa\n",
      "k\n",
      "k\n",
      "aaa\n",
      "bbb\n",
      "k\n",
      "aaa\n",
      "k\n",
      "k\n",
      "aaa\n",
      "k\n",
      "bbb\n",
      "aaa\n",
      "k\n",
      "k\n",
      "aaa\n",
      "k\n",
      "k\n",
      "aaabbb\n",
      "k\n"
     ]
    }
   ],
   "source": [
    "# Write here the code for Exercise 1\n",
    "n = int(input('input a positive integer:'))\n",
    "for i in range (1,n+1):\n",
    "    if i%3==0:\n",
    "        if i%7==0: print('aaabbb')\n",
    "        else: print('aaa')    \n",
    "    elif i%7==0:\n",
    "        print('bbb')\n",
    "    else: print('k')"
   ]
  },
  {
   "cell_type": "markdown",
   "metadata": {},
   "source": [
    "### Lists\n",
    "\n",
    "A list is a collection that is ordered and changeable. It may contain different data types. A list is defined using square brackets, and allows the following basic operations:\n",
    "* Accessing elements, indexed starting from 0, and indexed in reverse order with negative indices starting from -1.\n",
    "* Getting the length of the list with the instruction `len()`.\n",
    "* Adding new elements with the instruction `append()`.\n",
    "* Concatenating lists with the `+` operation.\n",
    "\n",
    "Below there are five cells with examples of each operation. You can learn about other list operations at [the python documentation](https://docs.python.org/3/tutorial/introduction.html#lists). Check list comprehensions, which combine loops with lists and can be very handy to simplify your code."
   ]
  },
  {
   "cell_type": "code",
   "execution_count": 10,
   "metadata": {},
   "outputs": [
    {
     "name": "stdout",
     "output_type": "stream",
     "text": [
      "[1, 2, 'three', 'four', 5]\n",
      "2\n",
      "four\n"
     ]
    }
   ],
   "source": [
    "my_list = [1, 2, 'three', 'four', 5]\n",
    "print(my_list)\n",
    "print(my_list[1])\n",
    "print(my_list[-2])"
   ]
  },
  {
   "cell_type": "code",
   "execution_count": 11,
   "metadata": {},
   "outputs": [
    {
     "name": "stdout",
     "output_type": "stream",
     "text": [
      "['new element', 2, 'three', 'four', 5]\n"
     ]
    }
   ],
   "source": [
    "my_list[0] = 'new element'\n",
    "print(my_list)"
   ]
  },
  {
   "cell_type": "code",
   "execution_count": 12,
   "metadata": {},
   "outputs": [
    {
     "data": {
      "text/plain": [
       "5"
      ]
     },
     "execution_count": 12,
     "metadata": {},
     "output_type": "execute_result"
    }
   ],
   "source": [
    "len(my_list)"
   ]
  },
  {
   "cell_type": "code",
   "execution_count": 13,
   "metadata": {},
   "outputs": [
    {
     "name": "stdout",
     "output_type": "stream",
     "text": [
      "[6, 'six']\n"
     ]
    }
   ],
   "source": [
    "new_list = [] #you can create an empty list\n",
    "new_list.append(6)\n",
    "new_list.append('six')\n",
    "print(new_list)"
   ]
  },
  {
   "cell_type": "code",
   "execution_count": 14,
   "metadata": {},
   "outputs": [
    {
     "name": "stdout",
     "output_type": "stream",
     "text": [
      "['new element', 2, 'three', 'four', 5, 7, 8, 9]\n",
      "[0, 0, 0, 0, 0, 'new element', 2, 'three', 'four', 5, 7, 8, 9]\n"
     ]
    }
   ],
   "source": [
    "my_list += [7,8,9]\n",
    "print(my_list)\n",
    "concat = [0,0,0,0,0] + my_list\n",
    "print(concat)"
   ]
  },
  {
   "cell_type": "markdown",
   "metadata": {},
   "source": [
    "One has to be careful when copying lists. Try this code:"
   ]
  },
  {
   "cell_type": "code",
   "execution_count": 15,
   "metadata": {},
   "outputs": [
    {
     "name": "stdout",
     "output_type": "stream",
     "text": [
      "['changed', 2, 'three', 'four', 5, 7, 8, 9]\n"
     ]
    }
   ],
   "source": [
    "copied_list=my_list\n",
    "copied_list[0]='changed'\n",
    "print(my_list)"
   ]
  },
  {
   "cell_type": "markdown",
   "metadata": {},
   "source": [
    "As you can see, both `copied_list` and `my_list` have been changed. This is due to the fact that the variables `copied_list` and `my_list` are actually pointers to the same object in the computer's memory. To create a real copy, one must use the command `copy()`."
   ]
  },
  {
   "cell_type": "code",
   "execution_count": 16,
   "metadata": {},
   "outputs": [
    {
     "name": "stdout",
     "output_type": "stream",
     "text": [
      "['changed', 2, 'three', 'four', 5, 7, 8, 9]\n"
     ]
    }
   ],
   "source": [
    "new_copied_list=my_list.copy()\n",
    "new_copied_list[0]='changed again'\n",
    "print(my_list)"
   ]
  },
  {
   "cell_type": "markdown",
   "metadata": {},
   "source": [
    "### Exercise 2\n",
    "\n",
    "Input a positive integer n. Create a list with the factorials of the first n positive integers."
   ]
  },
  {
   "cell_type": "code",
   "execution_count": 20,
   "metadata": {},
   "outputs": [
    {
     "name": "stdout",
     "output_type": "stream",
     "text": [
      "input a positive integer:15\n",
      "[1, 2, 6, 24, 120, 720, 5040, 40320, 362880, 3628800, 39916800, 479001600, 6227020800, 87178291200, 1307674368000]\n"
     ]
    }
   ],
   "source": [
    "#Write here the code for Exercise 2\n",
    "n=int(input('input a positive integer:'))\n",
    "fact=[1]\n",
    "for i in range (2,n+1):\n",
    "    fact.append(fact[-1]*i)\n",
    "print(fact)"
   ]
  },
  {
   "cell_type": "markdown",
   "metadata": {},
   "source": [
    "### Functions\n",
    "\n",
    "Functions are fragments of code that get some variables and return a result or do some partial task. Below there are two cells with examples of functions. It is advisable to give functions descriptive names. You can learn more in [the official documentation](https://docs.python.org/3/tutorial/controlflow.html#defining-functions).\n",
    "\n",
    "Pay attention to how identation works in the examples below."
   ]
  },
  {
   "cell_type": "code",
   "execution_count": 18,
   "metadata": {},
   "outputs": [],
   "source": [
    "def square(x):\n",
    "    return x * x\n",
    "\n",
    "#This algorithm is bad, could you suggest faster alternatives?\n",
    "def is_square(y):\n",
    "    if y == 0:\n",
    "        return True\n",
    "    for i in range(1,y+1):\n",
    "        if y == square(i):\n",
    "            return True\n",
    "    return False    "
   ]
  },
  {
   "cell_type": "code",
   "execution_count": 19,
   "metadata": {},
   "outputs": [
    {
     "name": "stdout",
     "output_type": "stream",
     "text": [
      "25\n",
      "True\n",
      "True\n",
      "True\n",
      "False\n"
     ]
    }
   ],
   "source": [
    "print(square(5))\n",
    "print(is_square(16))\n",
    "print(is_square(1))\n",
    "print(is_square(0))\n",
    "print(is_square(3))"
   ]
  },
  {
   "cell_type": "markdown",
   "metadata": {},
   "source": [
    "### Exercise 3\n",
    "\n",
    "The function n_choose_2 should give the combinatorial number n choose 2, given a positive integer n."
   ]
  },
  {
   "cell_type": "code",
   "execution_count": 83,
   "metadata": {},
   "outputs": [],
   "source": [
    "def n_choose_2(n):\n",
    "    #Complete here the code for Exercise 3 and replace ?? by the adequate expression\n",
    "    return (n*(n-1))//2"
   ]
  },
  {
   "cell_type": "code",
   "execution_count": 84,
   "metadata": {},
   "outputs": [
    {
     "name": "stdout",
     "output_type": "stream",
     "text": [
      "3\n",
      "21\n"
     ]
    }
   ],
   "source": [
    "#Check if the function works\n",
    "print(n_choose_2(3))\n",
    "print(n_choose_2(7))"
   ]
  },
  {
   "cell_type": "markdown",
   "metadata": {},
   "source": [
    "### Exercise 4\n",
    "\n",
    "The function fibonacci_list should return a list of the n first Fibonacci numbers, given a positive integer n. We will use the convention that the two first Fibonacci numbers are 1 and the others are defined by the recurrence $f_{n+2}=f_{n+1}+f_{n}$."
   ]
  },
  {
   "cell_type": "code",
   "execution_count": 80,
   "metadata": {},
   "outputs": [],
   "source": [
    "def fibonacci_list(n):\n",
    "    #Complete here the code for Exercise 4 and replace ?? by the adequate expression\n",
    "    fib_list = [1,1]\n",
    "    for i in range(2,n):\n",
    "        fib_list.append(fib_list[-1]+fib_list[-2])\n",
    "    return fib_list"
   ]
  },
  {
   "cell_type": "code",
   "execution_count": 30,
   "metadata": {},
   "outputs": [
    {
     "name": "stdout",
     "output_type": "stream",
     "text": [
      "input a positive integer:10\n",
      "[1, 1, 2, 3, 5, 8, 13, 21, 34, 55]\n"
     ]
    }
   ],
   "source": [
    "#Check if the function works (write the code yourselves)\n",
    "\n",
    "n=int(input('input a positive integer:'))\n",
    "print(fibonacci_list(n))"
   ]
  },
  {
   "cell_type": "markdown",
   "metadata": {},
   "source": [
    "### Cells\n",
    "\n",
    "When in Command Mode (blue outline), you can add cells Above pressing A, and Below pressing B. You can also delete cells pressing D, and then D again. Do not delete cells that were already part of the assignment unless explicitly stated."
   ]
  },
  {
   "cell_type": "markdown",
   "metadata": {},
   "source": [
    "## Graphs in Python"
   ]
  },
  {
   "cell_type": "markdown",
   "metadata": {},
   "source": [
    "We will work with three ways of storing a graph:\n",
    "* List of Edges\n",
    "* Adjacency Matrix\n",
    "* Adjacency List\n",
    "\n",
    "The goal of today is to understand how to translate between these representations and to construct some particular graphs."
   ]
  },
  {
   "cell_type": "code",
   "execution_count": 7,
   "metadata": {},
   "outputs": [],
   "source": [
    "def print_list_of_lists_in_rows(ll):\n",
    "    for l in ll:\n",
    "        print(l)"
   ]
  },
  {
   "cell_type": "code",
   "execution_count": 2,
   "metadata": {},
   "outputs": [
    {
     "name": "stdout",
     "output_type": "stream",
     "text": [
      "List of Edges:\n",
      "[0, 0]\n",
      "[0, 1]\n",
      "[1, 2]\n",
      "[2, 0]\n",
      "[0, 3]\n",
      "[0, 3]\n",
      "Adjacency Matrix:\n",
      "[1, 1, 1, 2]\n",
      "[1, 0, 1, 0]\n",
      "[1, 1, 0, 0]\n",
      "[2, 0, 0, 0]\n",
      "Adjacency List:\n",
      "[0, 1, 2, 3, 3]\n",
      "[0, 2]\n",
      "[0, 1]\n",
      "[0, 0]\n"
     ]
    }
   ],
   "source": [
    "#Example (multi)graph in the three representations\n",
    "example_LE = [[0,0],[0,1],[1,2],[2,0],[0,3],[0,3]]\n",
    "print('List of Edges:')\n",
    "print_list_of_lists_in_rows(example_LE)\n",
    "\n",
    "example_AM = [[1,1,1,2],[1,0,1,0],[1,1,0,0],[2,0,0,0]]\n",
    "print('Adjacency Matrix:')\n",
    "print_list_of_lists_in_rows(example_AM)\n",
    "\n",
    "example_AL = [[0,1,2,3,3],[0,2],[0,1],[0,0]]\n",
    "print('Adjacency List:')\n",
    "print_list_of_lists_in_rows(example_AL)"
   ]
  },
  {
   "cell_type": "code",
   "execution_count": 65,
   "metadata": {},
   "outputs": [],
   "source": [
    "#Write and store some example lists of edges to test the other exercises\n",
    "ex1_LE = [[0,1],[1,2],[2,0]]\n",
    "ex2_LE = [[0,0],[1,2]]\n",
    "ex3_LE = [[0,1],[2,3],[1,2],[3,3]]"
   ]
  },
  {
   "cell_type": "markdown",
   "metadata": {},
   "source": [
    "### Exercise 5\n",
    "\n",
    "The function LE_to_AM should create and return an Adjacency Matrix corresponding to the graph encoded in the list of edges input_LE.\n",
    "\n",
    "The function LE_to_AL should create and return an Adjacency List corresponding to the graph encoded in the list of edges input_LE."
   ]
  },
  {
   "cell_type": "code",
   "execution_count": 66,
   "metadata": {},
   "outputs": [],
   "source": [
    "#Write here the code for Exercise 5, and replace the ?? for the adequate expression\n",
    "\n",
    "def LE_to_AL(input_LE):\n",
    "    AL=[]\n",
    "    \n",
    "    Vmax=input_LE[0][0]\n",
    "    #Find number of vertices (Vmax+1)\n",
    "    for E in input_LE:\n",
    "        if E[0]>=Vmax:\n",
    "            Vmax=E[0]\n",
    "        if E[1]>=Vmax:\n",
    "            Vmax=E[1]\n",
    "    \n",
    "    #Find the neighborhood of each vertex\n",
    "    for i in range(0,Vmax+1):\n",
    "        AL.append([])\n",
    "        for E in input_LE:\n",
    "            if E[0]==i:\n",
    "                AL[i].append(E[1])\n",
    "            if E[1]==i and E[1]!=E[0]:\n",
    "                AL[i].append(E[0])\n",
    "    return AL\n",
    "\n",
    "def LE_to_AM(input_LE):\n",
    "    AM=[]\n",
    "    \n",
    "    Vmax=input_LE[0][0]\n",
    "    \n",
    "    #Find number of vertices (Vmax+1)\n",
    "    for i in range(0,len(input_LE)):\n",
    "        for j in range (0,2):\n",
    "            if input_LE[i][j]>=Vmax:\n",
    "                Vmax=input_LE[i][j]\n",
    "    \n",
    "    #Create matrix\n",
    "    for i in range(0,Vmax+1):\n",
    "        AM.append([])\n",
    "        for j in range(0,Vmax+1):\n",
    "            AM[i].append(0)\n",
    "            \n",
    "    #Fill matrix\n",
    "    for E in input_LE:\n",
    "        AM[E[0]][E[1]]+=1\n",
    "        AM[E[1]][E[0]]+=1\n",
    "                \n",
    "    return AM\n",
    "\n"
   ]
  },
  {
   "cell_type": "code",
   "execution_count": 85,
   "metadata": {},
   "outputs": [
    {
     "name": "stdout",
     "output_type": "stream",
     "text": [
      "Adjacency List:\n",
      "neighborhood of  0 : [1]\n",
      "neighborhood of  1 : [0, 2]\n",
      "neighborhood of  2 : [3, 1]\n",
      "neighborhood of  3 : [2, 3]\n",
      "=====================\n",
      "Adjacency Matrix:\n",
      "[0, 1, 0, 0]\n",
      "[1, 0, 1, 0]\n",
      "[0, 1, 0, 1]\n",
      "[0, 0, 1, 2]\n"
     ]
    }
   ],
   "source": [
    "## Check if the functions work\n",
    "AL=LE_to_AL(ex3_LE)\n",
    "AM=LE_to_AM(ex3_LE)\n",
    "\n",
    "i=0\n",
    "print('Adjacency List:')\n",
    "for l in AL:\n",
    "    print('neighborhood of ',i,':',AL[i])\n",
    "    i=i+1\n",
    "print('=====================')\n",
    "print('Adjacency Matrix:')\n",
    "print_list_of_lists_in_rows(AM)"
   ]
  },
  {
   "cell_type": "markdown",
   "metadata": {},
   "source": [
    "Now that you know the functions work, you can convert the example Edge Lists to example Adjacency Matrices and Adjacency lists, that you can use later to test the other functions"
   ]
  },
  {
   "cell_type": "code",
   "execution_count": 77,
   "metadata": {},
   "outputs": [],
   "source": [
    "#Create example Adajcency Matrices and Adjacency Lists\n",
    "\n",
    "ex1_AL=LE_to_AL(ex1_LE)\n",
    "ex1_AM=LE_to_AM(ex1_LE)\n",
    "ex2_AL=LE_to_AL(ex2_LE)\n",
    "ex2_AM=LE_to_AM(ex2_LE)\n",
    "ex3_AL=LE_to_AL(ex3_LE)\n",
    "ex3_AM=LE_to_AM(ex3_LE)"
   ]
  },
  {
   "cell_type": "markdown",
   "metadata": {},
   "source": [
    "### Exercise 6\n",
    "\n",
    "The following functions should create and return the Adjacency List of a particular graph, given the positive integers n, m greater or equal to 3.\n",
    "* cycle(n) creates the cycle graph with n vertices.\n",
    "* complete_bipartite(n, m) creates the complete bipartite graph with n and m vertices in each side.\n",
    "* grid(n,m) creates the grid graph of size n x m (with nm vertices total)."
   ]
  },
  {
   "cell_type": "code",
   "execution_count": 58,
   "metadata": {},
   "outputs": [],
   "source": [
    "#Write here the code for Exercise 6, and replace the ?? for the adequate expression\n",
    "\n",
    "def cycle(n):\n",
    "    cycle_LE=[]\n",
    "    for i in range (0,n):\n",
    "        cycle_LE.append([i,(i+1)%n])\n",
    "    \n",
    "    return LE_to_AL(cycle_LE)\n",
    "\n",
    "def complete_bipartite(n,m):\n",
    "    cb_LE=[]\n",
    "    for i in range(0,n):\n",
    "        for j in range(n,n+m):\n",
    "        # N={0,1,...,n-1} and M={n,n+1,...n+m-1},\n",
    "        # so |N|=n and |M|=m and its union is disjoint.\n",
    "            cb_LE.append([i,j])\n",
    "    \n",
    "    return LE_to_AL(cb_LE)\n",
    "\n",
    "def grid(n,m):\n",
    "    grid_LE=[]\n",
    "\n",
    "    k=0 #vertex counter\n",
    "    \n",
    "    for j in range(0,m): #rows\n",
    "        for i in range(0,n): #columns\n",
    "            # if they're not in the last row or column, we add the edge connecting the vertex \n",
    "            # with its neighbor to the right and with its neighbor below.\n",
    "            if i!=(n-1):\n",
    "                grid_LE.append([k,k+1])\n",
    "            if j!=(m-1):\n",
    "                grid_LE.append([k,k+n])\n",
    "                \n",
    "            k+=1\n",
    "    \n",
    "    return LE_to_AL(grid_LE)"
   ]
  },
  {
   "cell_type": "code",
   "execution_count": 79,
   "metadata": {},
   "outputs": [
    {
     "name": "stdout",
     "output_type": "stream",
     "text": [
      "neighborhood of  0 : [1, 4]\n",
      "neighborhood of  1 : [0, 2]\n",
      "neighborhood of  2 : [1, 3]\n",
      "neighborhood of  3 : [2, 4]\n",
      "neighborhood of  4 : [3, 0]\n",
      "=====================\n",
      "neighborhood of  0 : [5, 6, 7]\n",
      "neighborhood of  1 : [5, 6, 7]\n",
      "neighborhood of  2 : [5, 6, 7]\n",
      "neighborhood of  3 : [5, 6, 7]\n",
      "neighborhood of  4 : [5, 6, 7]\n",
      "neighborhood of  5 : [0, 1, 2, 3, 4]\n",
      "neighborhood of  6 : [0, 1, 2, 3, 4]\n",
      "neighborhood of  7 : [0, 1, 2, 3, 4]\n",
      "=====================\n",
      "neighborhood of  0 : [1, 5]\n",
      "neighborhood of  1 : [0, 2, 6]\n",
      "neighborhood of  2 : [1, 3, 7]\n",
      "neighborhood of  3 : [2, 4, 8]\n",
      "neighborhood of  4 : [3, 9]\n",
      "neighborhood of  5 : [0, 6, 10]\n",
      "neighborhood of  6 : [1, 5, 7, 11]\n",
      "neighborhood of  7 : [2, 6, 8, 12]\n",
      "neighborhood of  8 : [3, 7, 9, 13]\n",
      "neighborhood of  9 : [4, 8, 14]\n",
      "neighborhood of  10 : [5, 11]\n",
      "neighborhood of  11 : [6, 10, 12]\n",
      "neighborhood of  12 : [7, 11, 13]\n",
      "neighborhood of  13 : [8, 12, 14]\n",
      "neighborhood of  14 : [9, 13]\n"
     ]
    }
   ],
   "source": [
    "#Check if the functions work\n",
    "n=5\n",
    "m=3\n",
    "\n",
    "Cn=cycle(n)\n",
    "CB_nm=complete_bipartite(n,m)\n",
    "Grid_nm=grid(n,m)\n",
    "\n",
    "i=0\n",
    "for l in Cn:\n",
    "    print('neighborhood of ',i,':',Cn[i])\n",
    "    i=i+1\n",
    "print('=====================')\n",
    "i=0\n",
    "for l in CB_nm:\n",
    "    print('neighborhood of ',i,':',CB_nm[i])\n",
    "    i=i+1\n",
    "print('=====================')\n",
    "i=0\n",
    "for l in Grid_nm:\n",
    "    print('neighborhood of ',i,':',Grid_nm[i])\n",
    "    i=i+1"
   ]
  },
  {
   "cell_type": "markdown",
   "metadata": {},
   "source": [
    "### Exercise 7\n",
    "\n",
    "The function remove_vertex should return the Adjacency Martix of the graph G' corresponding to eliminating the vertex i from the graph G, encoded in the Adjacency Matrix G_AM."
   ]
  },
  {
   "cell_type": "code",
   "execution_count": 50,
   "metadata": {},
   "outputs": [],
   "source": [
    "#Write here the code for Exercise 7, and replace the ?? for the adequate expression\n",
    "\n",
    "def remove_vertex(G_AM, i):\n",
    "    G_AMr=G_AM.copy()\n",
    "    G_AMr.pop(i)\n",
    "    for r in G_AMr:\n",
    "        r.pop(i)\n",
    "    return G_AMr"
   ]
  },
  {
   "cell_type": "code",
   "execution_count": 51,
   "metadata": {},
   "outputs": [
    {
     "name": "stdout",
     "output_type": "stream",
     "text": [
      "[0, 1]\n",
      "[1, 0]\n"
     ]
    }
   ],
   "source": [
    "#Check if the function works\n",
    "\n",
    "ex1_rem1=remove_vertex(ex1_AM,1)\n",
    "print_list_of_lists_in_rows(ex1_rem1)"
   ]
  },
  {
   "cell_type": "markdown",
   "metadata": {},
   "source": [
    "### Exercise 8\n",
    "\n",
    "The function AM_to_degrees should return a list with the degree of each vertex of the graph G encoded in the Adjacency Matrix G_AM.\n",
    "\n",
    "Pay special attention to multiedges and loops.\n",
    "\n",
    "The function degree_sequence should return the (nonincreasingly ordered) degree sequence of the graph G encoded in the Adjacency Matrix G_AM."
   ]
  },
  {
   "cell_type": "code",
   "execution_count": 74,
   "metadata": {},
   "outputs": [],
   "source": [
    "#Write here the code for Exercise 8, and replace the ?? for the adequate expression\n",
    "\n",
    "def AM_to_degrees(G_AM):\n",
    "    #We add the elements of each i-th row of the G_AM, which gives us the degree of the i-th vertex.\n",
    "    deg=[]\n",
    "    for r in G_AM:\n",
    "        k=0\n",
    "        for v in r:\n",
    "            k+=v\n",
    "        deg.append(k)\n",
    "    return deg\n",
    "\n",
    "def degree_sequence(G_AM):\n",
    "    #We take the degree list and sort it nonincreasingly\n",
    "    deg=AM_to_degrees(G_AM)\n",
    "    deg.sort(reverse=True)\n",
    "    return deg"
   ]
  },
  {
   "cell_type": "code",
   "execution_count": 78,
   "metadata": {},
   "outputs": [
    {
     "name": "stdout",
     "output_type": "stream",
     "text": [
      "[1, 2, 2, 3]\n",
      "[3, 2, 2, 1]\n"
     ]
    }
   ],
   "source": [
    "#Check if the function works\n",
    "print(AM_to_degrees(ex3_AM))\n",
    "print(degree_sequence(ex3_AM))\n"
   ]
  }
 ],
 "metadata": {
  "kernelspec": {
   "display_name": "Python 3",
   "language": "python",
   "name": "python3"
  },
  "language_info": {
   "codemirror_mode": {
    "name": "ipython",
    "version": 3
   },
   "file_extension": ".py",
   "mimetype": "text/x-python",
   "name": "python",
   "nbconvert_exporter": "python",
   "pygments_lexer": "ipython3",
   "version": "3.7.3"
  }
 },
 "nbformat": 4,
 "nbformat_minor": 5
}
