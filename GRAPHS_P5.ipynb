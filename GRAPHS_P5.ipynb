{
 "cells": [
  {
   "cell_type": "markdown",
   "metadata": {},
   "source": [
    "## Grafs 22/23 - Sheet 5 - Due 23 December 2022\n",
    "\n",
    "# Backtracking \n"
   ]
  },
  {
   "cell_type": "markdown",
   "metadata": {},
   "source": [
    "Backtracking is a class of algorithms that navigates the space of partial solutions in a depth first search. It incrementally builds candidates of partial solutions. As soon as it detects that a partial solution cannot be completed to a complete solution, it and abandons this path (\"backtracks\"), and goes back to explore another partial solution until a complete solution is found."
   ]
  },
  {
   "cell_type": "markdown",
   "metadata": {},
   "source": [
    "The following example uses backtracking to compute all ways of selecting `n` cells in an `m x m` grid in such a way that no two cells in the same row or columns are used.\n",
    "\n",
    "A partial solution would consist of selecting some cells in the first `k` columns in such a way that the constraints are verified. As soon as there are more than `m-k` cells to be distributed in the last `m-k` columns, the algorithm backtracks."
   ]
  },
  {
   "cell_type": "code",
   "execution_count": null,
   "metadata": {},
   "outputs": [],
   "source": [
    "def rook_placement (n,m):\n",
    "# returns a list containing all the ways of selecting n cells in an m x m grid\n",
    "# in such a way that there are no two cells in the same row or column\n",
    "    \n",
    "    def recursive_rook_placement(n,m,k,forbidden_cols):\n",
    "#         Auxiliar recursive function that computes a partial solution for the rook placement problem\n",
    "#         in which only cells in the last m-k rows b\n",
    "#         and in the columns that do not belong to forbidden_cols can be used\n",
    "\n",
    "#         forbidden_cols is a set of columns that cannot be used in the solution\n",
    "\n",
    "#         returns a list containing all the ways of selecting n cells in the last m-k rows of an m x m grid\n",
    "#         in such a way that there are no two cells in the same row or column, \n",
    "#         and no cell is in one of the forbidden_cols\n",
    "        \n",
    "        solutions=[] #will contain the solutions\n",
    "\n",
    "        \n",
    "        if n>m-k:\n",
    "#             if we do not have enough columns to place all cells, we cannot complete this solution. \n",
    "\n",
    "#             we backtrack and return an empty list\n",
    "            return solutions\n",
    "\n",
    "\n",
    "\n",
    "        if n<=0:\n",
    "#             if we do not have anything to add then the empty solution is the only solution\n",
    "\n",
    "            solutions.append([])\n",
    "\n",
    "            return solutions\n",
    "        \n",
    "        \n",
    "\n",
    "        for i in range(k,m):\n",
    "#                 we try to continue our solution when the next noempty row is i\n",
    "            for j in range(m):\n",
    "#                 we try to insert the cell (i,j)\n",
    "\n",
    "                if not j in forbidden_cols:\n",
    "                    forbidden_cols.add(j)\n",
    "\n",
    "                    for sol in recursive_rook_placement(n-1,m,i+1,forbidden_cols):\n",
    "                        sol.append((i,j))\n",
    "                        \n",
    "#                         a solution has been found\n",
    "                        solutions.append(sol)\n",
    "\n",
    "                    forbidden_cols.remove(j)\n",
    "\n",
    "                \n",
    "        return solutions\n",
    "\n",
    "#     the main function just calls the recursive function with no forbidden rows and k=0\n",
    "\n",
    "    return recursive_rook_placement(n,m,0,set())\n",
    "    "
   ]
  },
  {
   "cell_type": "code",
   "execution_count": null,
   "metadata": {},
   "outputs": [],
   "source": [
    "n=2\n",
    "m=3\n",
    "\n",
    "G=graphs.Grid2dGraph(m,m)\n",
    "\n",
    "\n",
    "for sol in rook_placement(n,m):\n",
    "    G.show(vertex_colors={'red': sol})"
   ]
  },
  {
   "cell_type": "markdown",
   "metadata": {},
   "source": [
    "A possible problem with the solution above is that a complete list with all the solutions is created and stored in the memory.\n",
    "\n",
    "Generators are a python solution to this problem. A generator is a function in which a sequence of solutions are returned in an iterative way (using the command `yield`) but not stored. This allows to loop over the solutions like a list, without having to create the list. For example, the following function mimicks the function `range`."
   ]
  },
  {
   "cell_type": "code",
   "execution_count": null,
   "metadata": {},
   "outputs": [],
   "source": [
    "def our_range(n):\n",
    "    i=0\n",
    "    while i<n:\n",
    "        yield i\n",
    "        i=i+1"
   ]
  },
  {
   "cell_type": "code",
   "execution_count": null,
   "metadata": {},
   "outputs": [],
   "source": [
    "range_gen=our_range(10)\n",
    "\n",
    "for i in range_gen:\n",
    "    print(i)\n",
    "    \n",
    "print(\"you can only iterate a generator once. You have to reinitialize before reuse, otherwise\")\n",
    "    \n",
    "for i in range_gen:\n",
    "    print(i)\n",
    "\n",
    "print(\"but if you reinitialize it, it works again.\")\n",
    "    \n",
    "range_gen=our_range(10)\n",
    "\n",
    "for i in range_gen:\n",
    "    print(i)\n"
   ]
  },
  {
   "cell_type": "code",
   "execution_count": null,
   "metadata": {},
   "outputs": [],
   "source": [
    "for i in our_range(10):\n",
    "    print(i)"
   ]
  },
  {
   "cell_type": "markdown",
   "metadata": {},
   "source": [
    "You can get the next item of a generator using the function next(). If there is no other element, it raises a `StopIteration` exception. You can 'catch the exception' with the code below:"
   ]
  },
  {
   "cell_type": "code",
   "execution_count": null,
   "metadata": {},
   "outputs": [],
   "source": [
    "range_gen=our_range(10)\n",
    "\n",
    "i=next(range_gen)\n",
    "print(i) \n",
    "i=next(range_gen)\n",
    "print(i) \n",
    "i=next(range_gen)\n",
    "print(i) \n",
    "i=next(range_gen)\n",
    "print(i) \n",
    "    "
   ]
  },
  {
   "cell_type": "code",
   "execution_count": null,
   "metadata": {},
   "outputs": [],
   "source": [
    "for i in range_gen:\n",
    "    print(i)"
   ]
  },
  {
   "cell_type": "code",
   "execution_count": null,
   "metadata": {},
   "outputs": [],
   "source": [
    "i=next(range_gen)\n",
    "print(i) \n"
   ]
  },
  {
   "cell_type": "code",
   "execution_count": null,
   "metadata": {},
   "outputs": [],
   "source": [
    "range_gen=our_range(10)\n",
    "\n",
    "while True:\n",
    "    try:\n",
    "        i=next(range_gen)\n",
    "        print(i) \n",
    "    except StopIteration:\n",
    "        print('The generator is empty')\n",
    "        break\n"
   ]
  },
  {
   "cell_type": "markdown",
   "metadata": {},
   "source": [
    "We can turn our previous function into a generator."
   ]
  },
  {
   "cell_type": "code",
   "execution_count": null,
   "metadata": {},
   "outputs": [],
   "source": [
    "def rook_placement_gen (n,m):\n",
    "# returns a list containing all the ways of selecting n cells in an m x m grid\n",
    "# in such a way that there are no two cells in the same row or column\n",
    "    \n",
    "    def recursive_rook_placement_gen(n,m,k,forbidden_cols):\n",
    "#         Auxiliar recursive function that computes a partial solution for the rook placement problem\n",
    "#         in which only cells in the last m-k rows \n",
    "#         and in the columns that do not belong to forbidden_cols can be used\n",
    "\n",
    "#         forbidden_cols is a set of columns that cannot be used in the solution\n",
    "\n",
    "#         returns a list containing all the ways of selecting n cells in the last m-k rows of an m x m grid\n",
    "#         in such a way that there are no two cells in the same row or column, \n",
    "#         and no cell is in one of the forbidden_cols\n",
    "\n",
    "\n",
    "        \n",
    "        if n>m-k:\n",
    "#             if we do not have enough columns to place all cells, we cannot complete this solution. \n",
    "\n",
    "#             we backtrack and return\n",
    "            return \n",
    "\n",
    "\n",
    "\n",
    "        if n<=0:\n",
    "#             if we do not have anything to add then the empty solution is the only solution\n",
    "\n",
    "            yield []\n",
    "            return\n",
    "        \n",
    "        \n",
    "\n",
    "        for i in range(k,m):\n",
    "#                 we try to continue our solution when the next noempty row is i\n",
    "            for j in range(m):\n",
    "#                 we try to insert the cell (i,j)\n",
    "\n",
    "                if not j in forbidden_cols:\n",
    "                    forbidden_cols.add(j)\n",
    "\n",
    "                    for sol in recursive_rook_placement_gen(n-1,m,i+1,forbidden_cols):\n",
    "                        sol.append((i,j))\n",
    "                        \n",
    "#                         a solution has been found\n",
    "                        \n",
    "                        yield sol\n",
    "\n",
    "                    forbidden_cols.remove(j)\n",
    "         \n",
    "        return\n",
    "\n",
    "                \n",
    "\n",
    "#     the main function just calls the recursive function with no forbidden rows and k=0\n",
    "\n",
    "    return recursive_rook_placement_gen(n,m,0,set())\n",
    "    "
   ]
  },
  {
   "cell_type": "code",
   "execution_count": null,
   "metadata": {},
   "outputs": [],
   "source": [
    "n=2\n",
    "m=3\n",
    "\n",
    "G=graphs.Grid2dGraph(m,m)\n",
    "\n",
    "\n",
    "for sol in rook_placement_gen(n,m):\n",
    "    G.show(vertex_colors={'red': sol})"
   ]
  },
  {
   "cell_type": "markdown",
   "metadata": {},
   "source": [
    "## Exercise 1\n",
    "\n",
    "Given a graph $G=(V,E)$ code a generator `perfect_matchings(G)` that yields all the perfect matchings of a simple graph 'G'. You can backtrack whenever $G\\setminus V(M)$ has a connected component of odd order, for a partial solution $M$."
   ]
  },
  {
   "cell_type": "code",
   "execution_count": null,
   "metadata": {},
   "outputs": [],
   "source": [
    "def perfect_matchings(G):\n",
    "    \n",
    "    def rec_match(G,m,l,k,e,used):\n",
    "        #m: num of edges of G\n",
    "        #l: num of vertices of G\n",
    "        #k: num of used edges\n",
    "        #e: list of edges\n",
    "        #used: list of used vertices\n",
    "        G1=G.copy()\n",
    "        G1.delete_vertices(used) #we remove the already used vertices\n",
    "        \n",
    "        #if some connected component is of odd size, we backtrack and return.\n",
    "        for g in G1.connected_components():\n",
    "            if len(g)%2==1:\n",
    "                return\n",
    "            \n",
    "            \n",
    "        #if the we have as many used vertices as vertices of G, the only solution is the empty one.\n",
    "        if len(used)>=l:\n",
    "            yield []\n",
    "            return\n",
    "        \n",
    "        for i in range(k,m): #for the rest of edges we need to add\n",
    "            ed=e[i]\n",
    "            if ed[0] not in used and ed[1] not in used: \n",
    "                #if they don't have any endpoints in the matching they must be added\n",
    "                used.add(ed[0])\n",
    "                used.add(ed[1])\n",
    "                for sol in rec_match(G,m,l,i+1,e,used): #call for recursion i+1\n",
    "                    sol.append(ed)\n",
    "                    yield sol\n",
    "                used.remove(ed[0])\n",
    "                used.remove(ed[1])\n",
    "        return\n",
    "    return rec_match(G, G.size(),G.order(),0,list(G.edges()),set())\n",
    "            \n",
    "            "
   ]
  },
  {
   "cell_type": "code",
   "execution_count": null,
   "metadata": {},
   "outputs": [],
   "source": [
    "G=graphs.GeneralizedPetersenGraph(6,2)\n",
    "\n",
    "G.show()\n",
    "\n",
    "for m in perfect_matchings(G):\n",
    "    G.show(edge_colors={'red':m})"
   ]
  },
  {
   "cell_type": "markdown",
   "metadata": {},
   "source": [
    "## Exercise 2\n",
    "\n",
    "Modify the above function to generate all Hamiltonian cycles of a given connected cubic graph. Recall that, in a cubic graph, a Hamiltonian cycle is the complement of a perfect matching. Therefore, generating Hamiltonian cycles is equivalent to generating perfect matchings whose removal do not  disconnect the graph. This means that you can addtionally backtrack if $G\\setminus E(M)$ is disconnected."
   ]
  },
  {
   "cell_type": "code",
   "execution_count": null,
   "metadata": {},
   "outputs": [],
   "source": [
    "def hamiltonian_cycles_cubic(G):\n",
    "    def rec_ham(G,m,l,k,e,used_e,used):\n",
    "        #m: num of edges of G\n",
    "        #l: num of vertices of G\n",
    "        #k: num of used edges\n",
    "        #e: list of edges\n",
    "        #used_e: list of used edges\n",
    "        #used: list of used vertices\n",
    "        G1=G.copy()\n",
    "        G1.delete_edges(used_e)\n",
    "        if not G1.is_connected():\n",
    "            return\n",
    "        G1.add_edges(used_e)\n",
    "        G1.delete_vertices(used) #we remove the already used vertices\n",
    "        \n",
    "        #if some connected component is of odd size, we backtrack and return.\n",
    "        for g in G1.connected_components():\n",
    "            if len(g)%2==1:\n",
    "                return\n",
    "            \n",
    "            \n",
    "        #if the we have as many used vertices as vertices of G, the only solution is the empty one.\n",
    "        if len(used)>=l:\n",
    "            yield []\n",
    "            return\n",
    "        \n",
    "        for i in range(k,m): #for the rest of edges we need to add\n",
    "            ed=e[i]\n",
    "            if ed[0] not in used and ed[1] not in used: \n",
    "                #if they don't have any endpoints in the matching they must be added\n",
    "                used.add(ed[0])\n",
    "                used.add(ed[1])\n",
    "                for sol in rec_ham(G,m,l,i+1,e,used_e,used): #call for recursion i+1\n",
    "                    sol.append(ed)\n",
    "                    yield sol\n",
    "                used.remove(ed[0])\n",
    "                used.remove(ed[1])\n",
    "        return\n",
    "    return rec_ham(G, G.size(),G.order(),0,list(G.edges()),set(),set())\n",
    "\n",
    "\n",
    "   \n"
   ]
  },
  {
   "cell_type": "code",
   "execution_count": null,
   "metadata": {},
   "outputs": [],
   "source": [
    "G=graphs.GeneralizedPetersenGraph(6,2)\n",
    "\n",
    "G.plot(save_pos=True).show()\n",
    "pos=G.get_pos()\n",
    "\n",
    "\n",
    "count=0\n",
    "for c in hamiltonian_cycles_cubic(G):\n",
    "    c.show(pos=pos)\n",
    "    count+=1\n",
    "count\n"
   ]
  },
  {
   "cell_type": "markdown",
   "metadata": {},
   "source": [
    "## Exercise 3\n",
    "\n",
    "Write a function that computes the Hamiltonian closure of a graph `G`."
   ]
  },
  {
   "cell_type": "code",
   "execution_count": null,
   "metadata": {},
   "outputs": [],
   "source": [
    "def hamiltonian_closure(G):\n",
    "    for v in G.vertices():\n",
    "        if G.degree(v) < G.order()-1:\n",
    "            for u in G.vertices():\n",
    "                if G.degree(u)+G.degree(v) >= G.order() and u not in G[v] and u!=v:\n",
    "                    G.add_edge(v,u)\n",
    "                    hamiltonian_closure(G)\n",
    "    return G\n",
    "   \n",
    "        \n",
    "    "
   ]
  },
  {
   "cell_type": "code",
   "execution_count": null,
   "metadata": {},
   "outputs": [],
   "source": [
    "G=Graph([(1,2),(1,3),(2,3),(2,4),(3,5),(4,5),(4,6),(5,6)])\n",
    "G.show()\n",
    "G=hamiltonian_closure(G)\n",
    "G.show()"
   ]
  },
  {
   "cell_type": "markdown",
   "metadata": {},
   "source": [
    "## Exercise 4\n",
    "\n",
    "Write a function that generates all Hamiltonian cycles of a given simple graph `G`.\n",
    "\n"
   ]
  },
  {
   "cell_type": "code",
   "execution_count": null,
   "metadata": {},
   "outputs": [],
   "source": [
    "def hamiltonian_cycles(G):\n",
    "    \n",
    "    def extend(path,v,G):  #we assume that the vertices are 0,1,...,n-1\n",
    "        sol = []\n",
    "        if len(path) == len(G.vertices()):\n",
    "            if path[-1] == v:\n",
    "                sol.append(path)\n",
    "                return sol\n",
    "            else:\n",
    "                return sol\n",
    "        else:\n",
    "            for w in G.neighbors(path[-1]):\n",
    "                if w not in path:\n",
    "                    path2 = path.copy()\n",
    "                    path2.append(w)\n",
    "                    for p in extend(path2,v,G):\n",
    "                        sol.append(p)               \n",
    "        return sol\n",
    "    \n",
    "    \n",
    "    #we have to pick any vertex, we pick 0\n",
    "    for i in range (0, len(G.neighbors(0))):\n",
    "        v = G.neighbors(0)[i]\n",
    "        for j in range(i+1, len(G.neighbors(0))): #I do it like this so that each pair of neighbors is only used once\n",
    "            w = G.neighbors(0)[j]\n",
    "            H = G.copy()\n",
    "            H.delete_vertex(0)\n",
    "            for p in extend([v],w,H):\n",
    "                sol = []\n",
    "                sol.append((0,p[0]))\n",
    "                for k in range(0,len(p)-1):\n",
    "                    sol.append((p[k],p[k+1]))\n",
    "                sol.append((p[-1],0))\n",
    "                G1 = Graph(sol)\n",
    "                yield G1\n",
    "             \n",
    "        "
   ]
  },
  {
   "cell_type": "code",
   "execution_count": null,
   "metadata": {},
   "outputs": [],
   "source": [
    "G=graphs.WheelGraph(5)\n",
    "\n",
    "G.plot(save_pos=True).show()\n",
    "pos=G.get_pos()\n",
    "\n",
    "\n",
    "for c in hamiltonian_cycles(G):\n",
    "    c.show(pos=pos)"
   ]
  },
  {
   "cell_type": "code",
   "execution_count": null,
   "metadata": {},
   "outputs": [],
   "source": [
    "G=graphs.GeneralizedPetersenGraph(6,2)\n",
    "\n",
    "G.plot(save_pos=True).show()\n",
    "pos=G.get_pos()\n",
    "\n",
    "count=0\n",
    "for c in hamiltonian_cycles(G):\n",
    "    c.show(pos=pos)\n",
    "    count +=1\n",
    "\n",
    "count"
   ]
  },
  {
   "cell_type": "markdown",
   "metadata": {},
   "source": [
    "## Exercise 5\n",
    "\n",
    "Adapt the previous algorithm to solve the Traveling Salesman Problem on graphs with non-negative weights. That is, to compute the Hamiltonian cycle of minimal weight in a weighted graph. The fact that the weights are non-negative allows to introduce an additional backtracking condition: if the current partial cycle has larger weight than our current best Hamiltonian cycle, we can backtrack."
   ]
  },
  {
   "cell_type": "code",
   "execution_count": null,
   "metadata": {},
   "outputs": [],
   "source": [
    "from sage.rings.infinity import Infinity\n",
    "\n",
    "def tsp(G):\n",
    "    \n",
    "    min_weight = Infinity\n",
    "    \n",
    "    for H in hamiltonian_cycles(G):\n",
    "        sum_weight = 0\n",
    "        for e in H.edges():\n",
    "            sum_weight += G.edge_label(e[0],e[1])\n",
    "            if sum_weight >= min_weight:\n",
    "                break\n",
    "        if sum_weight < min_weight:\n",
    "            min_weight = sum_weight\n",
    "            best_G = H.copy()\n",
    "            \n",
    "    for e in best_G.edges():\n",
    "        best_G.set_edge_label(e[0],e[1],G.edge_label(e[0],e[1]))\n",
    "\n",
    "    return best_G"
   ]
  },
  {
   "cell_type": "code",
   "execution_count": null,
   "metadata": {},
   "outputs": [],
   "source": [
    "import time,random\n",
    "\n",
    "N=13\n",
    "\n",
    "G=graphs.RandomGNP(N,.75)\n",
    "\n",
    "\n",
    "while not G.is_connected():\n",
    "    print(\"Random graph was not connected. Let's try again\" )\n",
    "    G=graphs.RandomGNP(N,.75)\n",
    "\n",
    "for e in G.edges():\n",
    "    G.set_edge_label(e[0],e[1],random.randint(0,200))\n",
    "    \n",
    "\n",
    "    \n",
    "    \n",
    "G.show(edge_labels=True)\n",
    "\n",
    "\n",
    "\n",
    "\n",
    "start_time = time.time()\n",
    "\n",
    "sageTSP=G.traveling_salesman_problem(use_edge_labels=True)\n",
    "\n",
    "time_sage=time.time() - start_time\n",
    "  \n",
    "sageTSP.show(edge_labels=True)\n",
    "print('cost =', sum(e[2] for e in sageTSP.edges()))\n",
    "\n",
    "\n",
    "start_time = time.time()\n",
    "myTSP=tsp(G)\n",
    "\n",
    "time_our=time.time() - start_time\n",
    "\n",
    "myTSP.show(edge_labels=True)\n",
    "print('cost =', sum(e[2] for e in myTSP.edges()))\n",
    "\n",
    "print(sageTSP==myTSP)\n",
    "\n",
    "print(\"sage implementation:\", time_sage,\" our implementation:\", time_our)\n"
   ]
  },
  {
   "cell_type": "markdown",
   "metadata": {},
   "source": [
    "## Exercise 6"
   ]
  },
  {
   "cell_type": "markdown",
   "metadata": {},
   "source": [
    "Combine `hamiltonian_closure` and the generator `hamiltonian_cycles` to check whether a given connected graph is Hamiltonian."
   ]
  },
  {
   "cell_type": "code",
   "execution_count": null,
   "metadata": {},
   "outputs": [],
   "source": [
    "def is_hamiltonian(G):\n",
    "    G=hamiltonian_closure(G)\n",
    "    for c in hamiltonian_cycles(G):\n",
    "        return True\n",
    "    return False\n",
    "  \n",
    "    "
   ]
  },
  {
   "cell_type": "code",
   "execution_count": null,
   "metadata": {},
   "outputs": [],
   "source": [
    "for n in range(3,15):\n",
    "    for k in range(1,(n-1)//2 +1):\n",
    "        G=graphs.GeneralizedPetersenGraph(n,k)\n",
    "        print('sage: ',G.is_hamiltonian(),' we:',is_hamiltonian(G))"
   ]
  },
  {
   "cell_type": "markdown",
   "metadata": {},
   "source": [
    "## Exercise 7\n",
    "\n",
    "Write a function that computes the greedy coloring of a graph `G` with respect to a given ordering `O` (given as a list of vertices). It should return a dictionary of colors associated to the vertices."
   ]
  },
  {
   "cell_type": "code",
   "execution_count": null,
   "metadata": {},
   "outputs": [],
   "source": [
    "def greedy_coloring(G,O):\n",
    "    color={u:0 for u in O}\n",
    "    painted=[O[0]]\n",
    "    for v in O[1:]:\n",
    "        colors=set()\n",
    "        for u in G[v]:\n",
    "            if u in painted:\n",
    "                colors.add(color[u])\n",
    "        mincol=0\n",
    "        while mincol in colors:\n",
    "            mincol+=1\n",
    "        color[v]=mincol\n",
    "        painted.append(v)\n",
    "    return color"
   ]
  },
  {
   "cell_type": "code",
   "execution_count": null,
   "metadata": {},
   "outputs": [],
   "source": [
    "from sage.plot.colors import rainbow\n",
    "import random\n",
    "\n",
    "G=graphs.GeneralizedPetersenGraph(6,2)\n",
    "G.show()\n",
    "\n",
    "V=G.vertices()\n",
    "\n",
    "random.shuffle(V)\n",
    "\n",
    "print(V)\n",
    "\n",
    "colors=greedy_coloring(G,V)\n",
    "\n",
    "X=max(colors.values())+1\n",
    "\n",
    "Rainbow=rainbow(X)\n",
    "\n",
    "colormap={r:[] for r in Rainbow}\n",
    "\n",
    "for v in colors:\n",
    "    colormap[Rainbow[colors[v]]].append(v)\n",
    "    \n",
    "G.show(vertex_colors=colormap)\n"
   ]
  },
  {
   "cell_type": "markdown",
   "metadata": {},
   "source": [
    "## Exercise 8\n",
    "\n",
    "Write am algorithm that computes the degeneracy of a graph. If the optional argument `order` is set to `True`, then it returns the degeneracy as well as a list with one ordering of the vertices in which the vertices have to be inserted to attain this degeneracy."
   ]
  },
  {
   "cell_type": "code",
   "execution_count": null,
   "metadata": {},
   "outputs": [],
   "source": [
    "from sage.rings.infinity import Infinity as inf\n",
    "def degeneracy(G, order=False):\n",
    "    deg=0\n",
    "    perm=[]\n",
    "    \n",
    "    G1=G.copy()\n",
    "    while G1.order()>0:\n",
    "        min_d=inf\n",
    "        for v in G1.vertices():\n",
    "            if G1.degree(v)<min_d:\n",
    "                min_d=G1.degree(v)\n",
    "                min_v=v\n",
    "        perm.append(min_v)\n",
    "        G1.delete_vertex(min_v)\n",
    "    \n",
    "        if min_d>=deg:\n",
    "            deg=min_d\n",
    "    \n",
    "    if order:\n",
    "        perm=perm[::-1]\n",
    "        return (deg,perm)\n",
    "    return deg\n",
    "        \n",
    "    \n",
    "    \n",
    "    "
   ]
  },
  {
   "cell_type": "code",
   "execution_count": null,
   "metadata": {},
   "outputs": [],
   "source": [
    "for G in [graphs.GeneralizedPetersenGraph(6,2),graphs.WheelGraph(6),graphs.CompleteBipartiteGraph(4,2)]:\n",
    "    G.show()\n",
    "    deg,order=degeneracy(G,order=True)\n",
    "    print('degeneracy=',deg,order)\n",
    "\n"
   ]
  },
  {
   "cell_type": "markdown",
   "metadata": {},
   "source": [
    "Compare the chromatic number (computed by sage), the number of colors used by the greedy algorithm using an ordering attaining degeneracy, and the degeneracy plus one."
   ]
  },
  {
   "cell_type": "code",
   "execution_count": null,
   "metadata": {},
   "outputs": [],
   "source": [
    "for G in [graphs.GeneralizedPetersenGraph(6,2),graphs.WheelGraph(6),graphs.CompleteBipartiteGraph(4,2)]:\n",
    "    G.show()\n",
    "    X=G.chromatic_number()\n",
    "    deg,order=degeneracy(G,order=True)\n",
    "    cols=greedy_coloring(G,order)\n",
    "    gX=max(cols.values())+1\n",
    "    print('chromatic number = ', X, '; greedy coloring = ', gX, '; degeneracy + 1 = ',deg+1)"
   ]
  },
  {
   "cell_type": "code",
   "execution_count": null,
   "metadata": {},
   "outputs": [],
   "source": [
    "for n in range(8,15):\n",
    "    G=graphs.CirculantGraph(n,[1,2,3])\n",
    "    G.show()\n",
    "    X=G.chromatic_number()\n",
    "    deg,order=degeneracy(G,order=True)\n",
    "    cols=greedy_coloring(G,order)\n",
    "    gX=max(cols.values())+1\n",
    "    print('chromatic number = ', X, '; greedy coloring = ', gX, '; degeneracy + 1 = ',deg+1)"
   ]
  }
 ],
 "metadata": {
  "kernelspec": {
   "display_name": "SageMath 9.0",
   "language": "sage",
   "name": "sagemath"
  },
  "language_info": {
   "codemirror_mode": {
    "name": "ipython",
    "version": 3
   },
   "file_extension": ".py",
   "mimetype": "text/x-python",
   "name": "python",
   "nbconvert_exporter": "python",
   "pygments_lexer": "ipython3",
   "version": "3.8.10"
  }
 },
 "nbformat": 4,
 "nbformat_minor": 5
}
